{
 "cells": [
  {
   "cell_type": "markdown",
   "metadata": {},
   "source": [
    "# Arquitectura de matplotlib"
   ]
  },
  {
   "cell_type": "markdown",
   "metadata": {},
   "source": [
    "Matplotlib esta constituido por tres capas que se disponen en forma de pila, de forma que la capa inferior se comunica con la capa superior y con ella misma:\n",
    "1. **Capa Backend**\n",
    "2. **Capa Artist**\n",
    "3. **Capa Script**"
   ]
  },
  {
   "cell_type": "markdown",
   "metadata": {},
   "source": [
    "## Capa Backend"
   ]
  },
  {
   "cell_type": "markdown",
   "metadata": {},
   "source": [
    "Esta capa es la mas profunda y es la que esta mas cerca del sistema operativo. Contiene una serie de clases abstractas que definen unos metodos abstractos que deben de implementar las clases que quieren utilizar este backend. Existen diferentes backends cada uno para representar los graficos en un determinado medio. Asi existen backends para representar los graficos en sistemas de ventanas, en una pagina web, en un notebook de jupyter o para impresion en formato vectorias (pdf, ps) o en formato renderizado (png, jpg, etc).\n",
    "Las tres principales clases abstractas (interfaces) son:\n",
    "1. **FigureCanvas**: Que seria como el lienzo donde se dibuja\n",
    "2. **Renderer**: Que sería el pincel\n",
    "3. **Event**: Que maneja los eventos del usuario para crear graficos interactivos\n",
    "\n",
    "Los metodos pertenecientes a estas clases abstractas tendrán una implementación diferente dependiendo de donde sea el sitio donde se va a mostrar el grafico: en la web, en el sistema de ventanas o en hardcopy, es decir en copia en papel en los formatos pdf, ps, svg, png, etc"
   ]
  },
  {
   "cell_type": "markdown",
   "metadata": {},
   "source": [
    "## Capa Artist"
   ]
  },
  {
   "cell_type": "markdown",
   "metadata": {},
   "source": [
    "Es la capa principal donde se construye el grafico. Siguiendo con el simil sería como el pintor que sabe como utilizar el renderer (pincel) para poner la tinta sobre el lienzo (FigureCanvas).\n",
    "El elemento principal es **Figure** que es el dibujo completo del grafico y todo lo que hay en Figure es una instancia de la clase Artist. Existen dos tipos de objetos:\n",
    "1. **Primitivos (simples)**: rectangulos, lineas, texto, etc\n",
    "1. **Compuestos**: Estan compuestos de objetos primitivos. Son por ejemplo: axis, leyendas\n",
    "\n",
    "El objeto principal de esta capa es el objeto **axes** que es el espacio comprendido entre los dos ejes y es donde se circunscriben el resto de los objetos"
   ]
  },
  {
   "cell_type": "markdown",
   "metadata": {},
   "source": [
    "La capa Artist se comunica con el Backend a traves de metodo **draw**. La capa Artist no necesita saber en que clase de Backend se va a dibujar el gráfico"
   ]
  }
 ],
 "metadata": {
  "kernelspec": {
   "display_name": "Python 3",
   "language": "python",
   "name": "python3"
  },
  "language_info": {
   "codemirror_mode": {
    "name": "ipython",
    "version": 3
   },
   "file_extension": ".py",
   "mimetype": "text/x-python",
   "name": "python",
   "nbconvert_exporter": "python",
   "pygments_lexer": "ipython3",
   "version": "3.8.3"
  }
 },
 "nbformat": 4,
 "nbformat_minor": 4
}
