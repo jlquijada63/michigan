{
 "cells": [
  {
   "cell_type": "markdown",
   "metadata": {},
   "source": [
    "# Arquitectura de matplotlib"
   ]
  },
  {
   "cell_type": "markdown",
   "metadata": {},
   "source": [
    "Matplotlib esta constituido por tres capas que se disponen en forma de pila, de forma que la capa inferior se comunica con la capa superior y con ella misma:\n",
    "1. **Capa Backend**\n",
    "2. **Capa Artist**\n",
    "3. **Capa Script**"
   ]
  },
  {
   "cell_type": "markdown",
   "metadata": {},
   "source": [
    "## Capa Backend"
   ]
  },
  {
   "cell_type": "markdown",
   "metadata": {},
   "source": [
    "Esta capa es la mas profunda y es la que esta mas cerca del sistema operativo. Contiene una serie de clases abstractas que definen unos metodos abstractos que deben de implementar las clases que quieren utilizar este backend. Existen diferentes backends cada uno para representar los graficos en un determinado medio. Asi existen backends para representar los graficos en sistemas de ventanas, en una pagina web, en un notebook de jupyter o para impresion en formato vectorias (pdf, ps) o en formato renderizado (png, jpg, etc).\n",
    "Las tres principales clases abstractas (interfaces) son:\n",
    "1. **FigureCanvas**: Que seria como el lienzo donde se dibuja\n",
    "2. **Renderer**: Que sería el pincel\n",
    "3. **Event**: Que maneja los eventos del usuario para crear graficos interactivos\n",
    "\n",
    "Los metodos pertenecientes a estas clases abstractas tendrán una implementación diferente dependiendo de donde sea el sitio donde se va a mostrar el grafico: en la web, en el sistema de ventanas o en hardcopy, es decir en copia en papel en los formatos pdf, ps, svg, png, etc"
   ]
  },
  {
   "cell_type": "markdown",
   "metadata": {},
   "source": [
    "## Capa Artist"
   ]
  },
  {
   "cell_type": "markdown",
   "metadata": {},
   "source": [
    "Es la capa principal donde se construye el grafico. Siguiendo con el simil sería como el pintor que sabe como utilizar el renderer (pincel) para poner la tinta sobre el lienzo (FigureCanvas).\n",
    "El elemento principal es **Figure** que es el dibujo completo del grafico y todo lo que hay en Figure es una instancia de la clase Artist. Existen dos tipos de objetos:\n",
    "1. **Primitivos (simples)**: rectangulos, lineas, texto, etc\n",
    "1. **Compuestos**: Estan compuestos de objetos primitivos. Son por ejemplo: axis, leyendas, axes. Un objeto compuesto puede estar formado por uno o mas objetos compuestos. Asi por ejemplo un objeto de tipo Figure puede contener varios objetos del tipo *axes*\n",
    "\n",
    "El objeto principal de esta capa es el objeto **axes** que es el espacio comprendido entre los dos ejes y es donde se circunscriben el resto de los objetos"
   ]
  },
  {
   "cell_type": "markdown",
   "metadata": {},
   "source": [
    "La capa Artist se comunica con el Backend a traves de metodo **draw**. La capa Artist no necesita saber en que clase de Backend se va a dibujar el gráfico"
   ]
  },
  {
   "cell_type": "markdown",
   "metadata": {},
   "source": [
    "Esta es la es la estructura básica de matplotlib y es la que se utiliza a nivel de programación. La **capa script**, es opcional y lo que hace fundamentalmente es facilitar el trabajo y hacer mas agil la construcción de graficos, lo cual es especialmente util para el científico de datos.\n",
    "Vamos a ver una implementacion básica utilizando la dos capas básicas: **backend** y **artist**. Se trata de crear un **histograma** para representar los valores de un vector numpy de numeros aleatorios con 10000 elementos"
   ]
  },
  {
   "cell_type": "code",
   "execution_count": 7,
   "metadata": {},
   "outputs": [],
   "source": [
    "import numpy as np\n",
    "import matplotlib.pyplot as plt\n",
    "%matplotlib inline"
   ]
  },
  {
   "cell_type": "code",
   "execution_count": 19,
   "metadata": {},
   "outputs": [],
   "source": [
    "# importamos la clase FigureCanvas desde un determinado backend y vinculamos a el un objeto de la clase Figure\n",
    "from matplotlib.backends.backend_pdf import FigureCanvasPdf as FigureCanvas\n",
    "from matplotlib.figure import Figure\n",
    "fig = Figure()\n",
    "canvas = FigureCanvas(fig)"
   ]
  },
  {
   "cell_type": "code",
   "execution_count": 20,
   "metadata": {},
   "outputs": [],
   "source": [
    "# Creamos el vector de numpy de 10000 elementos aleatorios\n",
    "x = np.random.randn(10000)"
   ]
  },
  {
   "cell_type": "code",
   "execution_count": 21,
   "metadata": {},
   "outputs": [],
   "source": [
    "# A partir del objeto Figure creamos un objeto axes\n",
    "# (111) es una convencion de MATLAB y significa que se crea un cuadrante de una fila y una columna y se utiliza\n",
    "# la celda 1 (en este caso la unica), para dibujar el grafico\n",
    "\n",
    "ax = fig.add_subplot(111)"
   ]
  },
  {
   "cell_type": "code",
   "execution_count": 22,
   "metadata": {},
   "outputs": [
    {
     "data": {
      "text/plain": [
       "(array([  1.,   0.,   2.,   3.,   1.,   2.,   4.,   4.,   6.,   6.,   5.,\n",
       "          6.,   5.,  15.,  17.,  17.,  15.,  20.,  35.,  37.,  36.,  50.,\n",
       "         47.,  55.,  64.,  76.,  78.,  88.,  91., 101., 105., 138., 143.,\n",
       "        158., 171., 172., 184., 232., 211., 199., 246., 287., 258., 257.,\n",
       "        267., 298., 238., 309., 311., 301., 284., 289., 280., 248., 271.,\n",
       "        260., 209., 244., 211., 217., 216., 191., 165., 151., 176., 155.,\n",
       "        160., 118.,  87.,  91.,  80.,  66.,  77.,  57.,  54.,  41.,  28.,\n",
       "         31.,  29.,  15.,  19.,  16.,  14.,  16.,  13.,   7.,   6.,   7.,\n",
       "          5.,   4.,   3.,   5.,   0.,   4.,   2.,   2.,   1.,   2.,   0.,\n",
       "          1.]),\n",
       " array([-3.53290592, -3.46023731, -3.3875687 , -3.3149001 , -3.24223149,\n",
       "        -3.16956288, -3.09689427, -3.02422567, -2.95155706, -2.87888845,\n",
       "        -2.80621985, -2.73355124, -2.66088263, -2.58821402, -2.51554542,\n",
       "        -2.44287681, -2.3702082 , -2.2975396 , -2.22487099, -2.15220238,\n",
       "        -2.07953377, -2.00686517, -1.93419656, -1.86152795, -1.78885935,\n",
       "        -1.71619074, -1.64352213, -1.57085352, -1.49818492, -1.42551631,\n",
       "        -1.3528477 , -1.2801791 , -1.20751049, -1.13484188, -1.06217327,\n",
       "        -0.98950467, -0.91683606, -0.84416745, -0.77149885, -0.69883024,\n",
       "        -0.62616163, -0.55349303, -0.48082442, -0.40815581, -0.3354872 ,\n",
       "        -0.2628186 , -0.19014999, -0.11748138, -0.04481278,  0.02785583,\n",
       "         0.10052444,  0.17319305,  0.24586165,  0.31853026,  0.39119887,\n",
       "         0.46386747,  0.53653608,  0.60920469,  0.6818733 ,  0.7545419 ,\n",
       "         0.82721051,  0.89987912,  0.97254772,  1.04521633,  1.11788494,\n",
       "         1.19055355,  1.26322215,  1.33589076,  1.40855937,  1.48122797,\n",
       "         1.55389658,  1.62656519,  1.6992338 ,  1.7719024 ,  1.84457101,\n",
       "         1.91723962,  1.98990822,  2.06257683,  2.13524544,  2.20791405,\n",
       "         2.28058265,  2.35325126,  2.42591987,  2.49858847,  2.57125708,\n",
       "         2.64392569,  2.7165943 ,  2.7892629 ,  2.86193151,  2.93460012,\n",
       "         3.00726872,  3.07993733,  3.15260594,  3.22527455,  3.29794315,\n",
       "         3.37061176,  3.44328037,  3.51594897,  3.58861758,  3.66128619,\n",
       "         3.73395479]),\n",
       " <a list of 100 Patch objects>)"
      ]
     },
     "execution_count": 22,
     "metadata": {},
     "output_type": "execute_result"
    }
   ],
   "source": [
    "# Ahora utilizamos el metodo hist del objeto axes para construir el histograma, con 100 bins\n",
    "ax.hist(x,100)"
   ]
  },
  {
   "cell_type": "code",
   "execution_count": 23,
   "metadata": {},
   "outputs": [],
   "source": [
    "# Le ponemos un titulo y lo guardamos\n",
    "ax.set_title('Distribución normal estandar con $\\mu=0, \\sigma=1$')\n",
    "fig.savefig('matplotlib_histogram.pdf')"
   ]
  },
  {
   "cell_type": "markdown",
   "metadata": {},
   "source": [
    "## Capa Script"
   ]
  },
  {
   "cell_type": "markdown",
   "metadata": {},
   "source": [
    "La tercera capa tiene como función simplificar la creación de graficos. La **capa script** lo que hace es realizar varias tareas por nosotros (under the hood). Es utilizada fundamentalmente por los cientificos de datos. La capa script mas utilizada es **pyplot**"
   ]
  },
  {
   "cell_type": "markdown",
   "metadata": {},
   "source": [
    "Para comprender mejor el funcionamiento vamos a crear el grafico anterior con la capa script (matplotlib.pyplot)"
   ]
  },
  {
   "cell_type": "code",
   "execution_count": 24,
   "metadata": {},
   "outputs": [
    {
     "data": {
      "image/png": "[encoded data removed]",
      "text/plain": [
       "<Figure size 432x288 with 1 Axes>"
      ]
     },
     "metadata": {
      "needs_background": "light"
     },
     "output_type": "display_data"
    }
   ],
   "source": [
    "import matplotlib.pyplot as plt\n",
    "plt.hist(x,100)\n",
    "plt.title('Mismo histograma creado con pyplot con $\\mu=0,\\sigma=1$')\n",
    "plt.savefig('nuevo_histograma.pdf')"
   ]
  },
  {
   "cell_type": "code",
   "execution_count": null,
   "metadata": {},
   "outputs": [],
   "source": []
  }
 ],
 "metadata": {
  "kernelspec": {
   "display_name": "Python 3",
   "language": "python",
   "name": "python3"
  },
  "language_info": {
   "codemirror_mode": {
    "name": "ipython",
    "version": 3
   },
   "file_extension": ".py",
   "mimetype": "text/x-python",
   "name": "python",
   "nbconvert_exporter": "python",
   "pygments_lexer": "ipython3",
   "version": "3.8.3"
  }
 },
 "nbformat": 4,
 "nbformat_minor": 4
}
